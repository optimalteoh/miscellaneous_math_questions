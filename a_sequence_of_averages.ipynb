{
 "cells": [
  {
   "cell_type": "markdown",
   "id": "cf9ba6c4",
   "metadata": {},
   "source": [
    "# A Sequence of Averages"
   ]
  },
  {
   "cell_type": "markdown",
   "id": "b6f8d853",
   "metadata": {},
   "source": [
    "### by Z.Y. Teoh, April 17, 2023"
   ]
  },
  {
   "cell_type": "markdown",
   "id": "03beca8b",
   "metadata": {},
   "source": [
    "Here is the question:\n",
    "\n",
    "### Let $a_0=a$ and $a_1=b$. Recursively, let $a_{n+2}=0.5(a_{n+1}+a_n)$, i.e. successively take the average of the last two terms in the sequence. Does the sequence converge? What is its limit?\n"
   ]
  },
  {
   "cell_type": "markdown",
   "id": "243d73a7",
   "metadata": {},
   "source": [
    "Let us first picture what the recursive process is like on the real line. We first note that, if $a=b$, then we are looking at a constant sequence. Now consider the case $a<b$; the other case will be deduced as a corollary of this case. The first two terms are the end point of a closed interval $[a, b]$. The third term in the sequence puts a point in the center of the interval, i.e. the average. The fourth term puts a point in the center of the second half of the original interval. And the fifth term put a point in the center of the first half of the preceding halved interval. And so forth. The terms successively identify the midpoints of the subintervals in a left, right, left, right manner, viz\n",
    "\\begin{equation*}\n",
    "    a_1<a_3<a_5<a_7<\\cdots<a_6<a_4<a_2.\n",
    "\\end{equation*}\n",
    "This generates a sequence of nested intervals, which, we know from topology, converges to a point in a limiting case. In fact, this is a decreasing chain of closed intervals with diminishing diameter, hence they converge to a point in the limiting case.\n",
    "\n",
    "Let us derive the limit now. It can really be derived by observing that we are dealing with a convergent geometric series (see Appendix B), but we choose to take a different route, one that capitalizes on some symmetries. Thus, let $\\mathcal{C}$ be the class of all real sequences defined in the manner given. We let $\\mathcal{C}_S\\subset\\mathcal{C}$ be the subset consisting of all sequences in $\\mathcal{C}$ for which $a_0<a_1$, sequences which we will refer to as _standard_. The next step in the computation brings in a linear function $f(t)$ below. The idea behind it is simple and is noneother than the notion of linear proportionality.\n",
    "\n",
    "We observe that _the point of convergence for the sequence is always in the same proportion away from_ $a_1$ _no matter how far apart_ $a_2$ _is away_. We let $\\eta$ be the point of convergence for a standard sequence $\\{a_n\\}$. Observe that if $\\lambda$ is such that $\\eta-a=\\lambda(b-a)$, then we also have $\\eta'-a'=\\lambda(b'-a')$ for any other sequence $a_1'=a', a_2'=b', a_3', a_4', \\ldots$ in $\\mathcal{C}$. To see this, consider the linear function $f(t)=\\frac{b'-a'}{b-a}t+a'-\\frac{a(b'-a')}{b-a}$ that takes $a$ to $a'$ and $b$ to $b'$. Continuity allows us to pull the limit out from the function (see Appendix A), namely\n",
    "\\begin{eqnarray*}\n",
    "f(\\eta)=f\\left(\\lim_{n\\to\\infty}a_n\\right)=\\lim_{n\\to\\infty}f(a_n)=\\lim_{n\\to\\infty}a_n'=\\eta'.\n",
    "\\end{eqnarray*}\n",
    "Applying $f(t)$ on $t=\\eta=a+\\lambda(b-a)$, we obtain\n",
    "\\begin{eqnarray*}\n",
    "\\eta' &=& f(\\eta) \\\\\n",
    "&=& f(a+\\lambda(b-a)) \\\\\n",
    "&=& \\frac{b'-a'}{b-a}(a+\\lambda(b-a))+a'-\\frac{a(b'-a')}{b-a} \\\\\n",
    "&=& \\left(\\frac{b'-a'}{b-a}a+a'-\\frac{a(b'-a')}{b-a}\\right)+\\frac{b'-a'}{b-a}\\left(\\lambda(b-a)\\right) \\\\\n",
    "&=& f(a)+\\lambda(b'-a') \\\\\n",
    "&=& a'+\\lambda(b'-a'),\n",
    "\\end{eqnarray*}\n",
    "as claimed. (See Appendix C for an alternative argument.)\n",
    "\n",
    "It is now time to compute the limit. It is folklore from Calculus that the limit of a sequence does not depend on the initial segments, but only the tail of the sequence. To this end, let $\\{a_n\\}\\in\\mathcal{C}_S$ with $a_1=a$ and $a_2=b$. Consider $\\{a_n'\\}\\in\\mathcal{C}_S$ such that $a_n'=a_{n+2}$ for all $n=1, 2, \\ldots$. Hence, using the notation above, we have $a'=a_3$ and $b'=a_4$. Since both $\\{a_n\\}$ and $\\{a_n'\\}$ have the same limit, say $\\eta$, we therefore have\n",
    "\\begin{eqnarray*}\n",
    "    a+\\lambda(b-a) &=& a'+\\lambda(b'-a') \\\\\n",
    "    \\lambda &=& \\frac{a'-a}{(b-a)-(b'-a')},\n",
    "\\end{eqnarray*}\n",
    "but $a'=a_3=\\frac{a+b}{2}$, $b'-a'=a_4-a_3=\\frac{1}{4}(b-a)$. Plugging in, we have\n",
    "\\begin{equation*}\n",
    "    \\lambda=\\frac{\\frac{a+b}{2}-a}{(b-a)-\\frac{b-a}{4}}=\\frac{2}{3}.\n",
    "\\end{equation*}\n",
    "Hence, we know that the sequence $\\{a_n\\}$ converges to $\\eta=a+\\frac{2}{3}(b-a)$.\n",
    "\n",
    "What about a sequence where $a>b$? To answer this question, we consider _the_ standard version of the sequence in the following way: if $\\{a_n\\}$ is the sequence with $a>b$, consider the sequence $\\{a_n'\\}\\in\\mathcal{C}_S$, where $a_n'=-a_n$ for all $n=1, 2, 3, \\ldots$. This standard sequence has a limit of $\\eta'=a_1'+\\frac{2}{3}(a_2'-a_1')$, so the limit of the original $\\{a_n\\}$ is\n",
    "\\begin{equation*}\n",
    "\\eta=-\\eta'=a_1-\\frac{2}{3}(-a_2-(-a_1))=a_2+\\frac{1}{3}(a_1-a_2).\n",
    "\\end{equation*}"
   ]
  },
  {
   "cell_type": "markdown",
   "id": "03f9c15e",
   "metadata": {},
   "source": [
    "### Some explorations via coding..."
   ]
  },
  {
   "cell_type": "markdown",
   "id": "e6bbf2d9",
   "metadata": {},
   "source": [
    "In the following, we demonstrate the claims above with some coding. You will be asked to pick two numbers $a$ and $b$ and we will compute the limits of the resulting sequences."
   ]
  },
  {
   "cell_type": "code",
   "execution_count": 1,
   "id": "f14b508c",
   "metadata": {},
   "outputs": [
    {
     "name": "stdout",
     "output_type": "stream",
     "text": [
      "Enter 1st number a: 6598.7\n",
      "Enter 2nd number b: 34698.32\n",
      "The point of convergence for a_1=min(a, b) is 25331.78 (represented by red dashed line in the plot below)\n",
      "The point of convergence for a_1=max(a, b) is 15965.239999999998 (represented by green dashed line in the plot below)\n"
     ]
    }
   ],
   "source": [
    "%matplotlib inline\n",
    "import numpy as np\n",
    "import matplotlib.pyplot as plt\n",
    "import math\n",
    "\n",
    "a = float(input('Enter 1st number a: '))\n",
    "b = float(input('Enter 2nd number b: '))\n",
    "\n",
    "eta1 = min(a,b)+(2/3)*(max(a,b)-min(a,b))\n",
    "eta2 = min(a,b)+(1/3)*(max(a,b)-min(a,b))\n",
    "\n",
    "print(\"The point of convergence for a_1=min(a, b) is\",eta1,\"(represented by red dashed line in the plot below)\")\n",
    "print(\"The point of convergence for a_1=max(a, b) is\",eta2,\"(represented by green dashed line in the plot below)\")"
   ]
  },
  {
   "cell_type": "markdown",
   "id": "0245fdce",
   "metadata": {},
   "source": [
    "You will not be asked to insert the number of terms to be displayed because the convergence is exponential: Starting from a gap of $|b-a|$, the location of the limit can be pinpointed within a distance of half the gap in the previous step. The limit converges via $1/2^n$. The convergence plot below is set at 5 in. tall and 10 in. wide. The height of 5 in. will correspond roughly to the distance between $a$ and $b$ on the plot and our human visual resolution should not be able to easily pick up differences below 0.5 mm. It takes about 8 terms to get there since $(5\\;\\text{in.})/2^8=0.02\\;\\text{in.}$, which is about 0.5 mm. So, the number of iterations is set to be 11 (\"while i<12\" below) so as to display a few more terms beyond the 8th term."
   ]
  },
  {
   "cell_type": "code",
   "execution_count": 2,
   "id": "42e3282d",
   "metadata": {},
   "outputs": [
    {
     "data": {
      "image/png": "[encoded data removed]",
      "text/plain": [
       "<Figure size 1000x500 with 1 Axes>"
      ]
     },
     "metadata": {},
     "output_type": "display_data"
    }
   ],
   "source": [
    "import math\n",
    "\n",
    "A=min(a,b)\n",
    "B=max(a,b)\n",
    "A2=max(a,b)\n",
    "B2=min(a,b)\n",
    "m=min(a,b)\n",
    "M=max(a,b)\n",
    "X=[1, 2]\n",
    "Y=[min(a,b), max(a,b)]\n",
    "Y2=[max(a,b), min(a,b)]\n",
    "i=3\n",
    "while i<12:\n",
    "    c=0.5*(A+B)\n",
    "    c2=0.5*(A2+B2)\n",
    "    A=B\n",
    "    B=c\n",
    "    A2=B2\n",
    "    B2=c2\n",
    "    X.append(i)\n",
    "    Y.append(c)\n",
    "    Y2.append(c2)\n",
    "    i=i+1\n",
    "\n",
    "\n",
    "fig, ax = plt.subplots(figsize=(10, 5))\n",
    "\n",
    "# Plot the sequence\n",
    "ax.plot(X, Y, 'o-', label='a_1<a_2')\n",
    "ax.plot(X, Y2, '^-', label='a_2<a_1')\n",
    "\n",
    "# Set the x and y axis labels\n",
    "ax.set_xlabel('a_n')\n",
    "ax.set_ylabel('Value')\n",
    "\n",
    "# Add the horizontal line at y=1\n",
    "ax.axhline(y=eta1, color='r', linestyle='--', label=str(round(eta1, 2)))\n",
    "ax.axhline(y=eta2, color='g', linestyle='--', label=str(round(eta2, 2)))\n",
    "\n",
    "# Add a legend\n",
    "ax.legend()\n",
    "\n",
    "plt.axis([0, 11, m, M])\n",
    "\n",
    "# Show the plot\n",
    "plt.show()"
   ]
  },
  {
   "cell_type": "markdown",
   "id": "05440a4d",
   "metadata": {},
   "source": [
    "You can also see the first few terms of the sequences below. First, for $a_1$ being the smaller among $a, b$. Unlike the visual sensitivity above, the height which is fixed at 5 in., we are now looking at numbers represented in decimal expansions. To be able to see the convergence to, say 2 decimal places of accuracy, we can make use of the computation in Appendix B below. We want to know the $n>2$ such that $|a_n-a_{n-1}|\\leq 10^{-2}$. But, using the idea of Appendix B, we have $|a_n-a_{n-1}|=|a-b|\\cdot2^{-(n-2)}$. If we let $m$ to be 1 more than the order of magnitude of $|a-b|$, then we are looking at $10^m\\cdot 2^{-(n-2)}5\\cdot\\leq 10^{-2}$; we require $m$ to be at least 0 so that we don't obtain negative $\\log 10^m$. These all translate to\n",
    "\\begin{eqnarray*}\n",
    "    n\\geq\\frac{m+3-\\log 5}{\\log 2}+2.\n",
    "\\end{eqnarray*}\n",
    "\n",
    "\n",
    "\n",
    "<!-- The following reasoning is incorrect. Let us aim for 2 decimal places of accuracy. To know how many terms are needed to obtain the desired accuracy, observe that the sequence progresses by halving the sum of the previous two terms (i.e. taking the average). For each place holder in the decimal expansion of $a+b$, it takes at most 4 times to change the digit of that place holder until it stays constant upon further halving. (Take a moment to think about this. Even though we add halves as well as subtracting halves, the digit of every place holder can change at most 4 times.) Thus, we look at the order of magnitude of $a+b$, add 2 to it to obtain accuracy to 2 decimals, and we multiply that number by 4. We add another 2 to the resultant number because, don't forget, we only start to halve _after_ the 2nd term! That gives us an upper bound to the number of terms needed to achieve that desired accuracy. -->"
   ]
  },
  {
   "cell_type": "code",
   "execution_count": 3,
   "id": "c5a1d359",
   "metadata": {},
   "outputs": [
    {
     "name": "stdout",
     "output_type": "stream",
     "text": [
      "The the order of magnitude of |a-b| is 1 less than 5\n",
      "The number of terms to look at is 27\n",
      "a_i for i= 3 : 20648.51\n",
      "a_i for i= 4 : 27673.415\n",
      "a_i for i= 5 : 24160.9625\n",
      "a_i for i= 6 : 25917.18875\n",
      "a_i for i= 7 : 25039.075625\n",
      "a_i for i= 8 : 25478.1321875\n",
      "a_i for i= 9 : 25258.60390625\n",
      "a_i for i= 10 : 25368.368046875\n",
      "a_i for i= 11 : 25313.4859765625\n",
      "a_i for i= 12 : 25340.927011718748\n",
      "a_i for i= 13 : 25327.206494140624\n",
      "a_i for i= 14 : 25334.066752929684\n",
      "a_i for i= 15 : 25330.636623535152\n",
      "a_i for i= 16 : 25332.35168823242\n",
      "a_i for i= 17 : 25331.494155883785\n",
      "a_i for i= 18 : 25331.922922058104\n",
      "a_i for i= 19 : 25331.708538970946\n",
      "a_i for i= 20 : 25331.815730514525\n",
      "a_i for i= 21 : 25331.762134742734\n",
      "a_i for i= 22 : 25331.78893262863\n",
      "a_i for i= 23 : 25331.775533685683\n",
      "a_i for i= 24 : 25331.78223315716\n",
      "a_i for i= 25 : 25331.778883421423\n",
      "a_i for i= 26 : 25331.78055828929\n",
      "a_i for i= 27 : 25331.779720855357\n"
     ]
    }
   ],
   "source": [
    "N=2+math.ceil((max(0,math.ceil(math.log(abs(a-b),10)))+3-math.log(5, 10))/math.log(2, 10))\n",
    "print(\"The the order of magnitude of |a-b| is 1 less than\",math.ceil(math.log(abs(a-b),10)))\n",
    "print(\"The number of terms to look at is\",N)\n",
    "\n",
    "A=min(a,b)\n",
    "B=max(a,b)\n",
    "m=min(a,b)\n",
    "M=max(a,b)\n",
    "X=[1, 2]\n",
    "Y=[min(a,b), max(a,b)]\n",
    "i=3\n",
    "while i<N+1:\n",
    "    c=0.5*(A+B)\n",
    "    A=B\n",
    "    B=c\n",
    "    X.append(i)\n",
    "    Y.append(c)\n",
    "    print(\"a_i for i=\",i,\":\", c)\n",
    "    i=i+1"
   ]
  },
  {
   "cell_type": "markdown",
   "id": "b3bb5bbd",
   "metadata": {},
   "source": [
    "Next, for the second choice with $a_1$ as the bigger between $a, b$."
   ]
  },
  {
   "cell_type": "code",
   "execution_count": 4,
   "id": "7cadff04",
   "metadata": {},
   "outputs": [
    {
     "name": "stdout",
     "output_type": "stream",
     "text": [
      "Again, the order of magnitude of a+b is 1 less than 5\n",
      "  and the number of terms to look at is 27\n",
      "a_i for i= 3 : 20648.51\n",
      "a_i for i= 4 : 13623.605\n",
      "a_i for i= 5 : 17136.0575\n",
      "a_i for i= 6 : 15379.83125\n",
      "a_i for i= 7 : 16257.944375\n",
      "a_i for i= 8 : 15818.8878125\n",
      "a_i for i= 9 : 16038.416093749998\n",
      "a_i for i= 10 : 15928.651953124998\n",
      "a_i for i= 11 : 15983.534023437498\n",
      "a_i for i= 12 : 15956.092988281249\n",
      "a_i for i= 13 : 15969.813505859373\n",
      "a_i for i= 14 : 15962.95324707031\n",
      "a_i for i= 15 : 15966.38337646484\n",
      "a_i for i= 16 : 15964.668311767575\n",
      "a_i for i= 17 : 15965.525844116208\n",
      "a_i for i= 18 : 15965.097077941891\n",
      "a_i for i= 19 : 15965.31146102905\n",
      "a_i for i= 20 : 15965.204269485472\n",
      "a_i for i= 21 : 15965.257865257261\n",
      "a_i for i= 22 : 15965.231067371365\n",
      "a_i for i= 23 : 15965.244466314314\n",
      "a_i for i= 24 : 15965.23776684284\n",
      "a_i for i= 25 : 15965.241116578578\n",
      "a_i for i= 26 : 15965.23944171071\n",
      "a_i for i= 27 : 15965.240279144644\n"
     ]
    }
   ],
   "source": [
    "N=2+math.ceil((max(0,math.ceil(math.log(abs(a-b),10)))+3-math.log(5, 10))/math.log(2, 10))\n",
    "print(\"Again, the order of magnitude of a+b is 1 less than\",math.ceil(math.log(abs(a-b),10)))\n",
    "print(\"  and the number of terms to look at is\",N)\n",
    "\n",
    "A2=max(a,b)\n",
    "B2=min(a,b)\n",
    "m=min(a,b)\n",
    "M=max(a,b)\n",
    "X=[1, 2]\n",
    "Y2=[max(a,b), min(a,b)]\n",
    "i=3\n",
    "while i<N+1:\n",
    "    c2=0.5*(A2+B2)\n",
    "    A2=B2\n",
    "    B2=c2\n",
    "    X.append(i)\n",
    "    Y2.append(c2)\n",
    "    print(\"a_i for i=\",i,\":\", c2)\n",
    "    i=i+1"
   ]
  },
  {
   "cell_type": "markdown",
   "id": "7c587650",
   "metadata": {},
   "source": [
    "### Appendix A"
   ]
  },
  {
   "cell_type": "markdown",
   "id": "8e160d0c",
   "metadata": {},
   "source": [
    "This fact can be derived from some theorems in most analysis textbooks, such as Theorems 4.2 and 4.6 of Rudin's famous _Principles of Mathematical Analysis_, but it would nonetheless involve quite some argument. This fact is more commonly encountered in a discussion on topology and can be found in, for instance, Exercise (d) of Subsection 15.34, of Eric Schechter's _Handbook of Analysis and Its Foundations_. A Stack Exchange discussion is also available - https://math.stackexchange.com/questions/2429902/image-of-a-convergent-sequence-under-a-continuous-function-converges"
   ]
  },
  {
   "cell_type": "markdown",
   "id": "5b3125a5",
   "metadata": {},
   "source": [
    "### Appendix B"
   ]
  },
  {
   "cell_type": "markdown",
   "id": "afc654a9",
   "metadata": {},
   "source": [
    "For simplicity, we consider the special case where $a_1=0, a_2=1$. We would have\n",
    "\\begin{eqnarray*}\n",
    "a_3 &=& \\frac{1}{2} \\\\\n",
    "a_4 &=& \\frac{1}{2}+\\frac{1}{2^2} \\\\\n",
    "a_5 &=& \\frac{1}{2}+\\frac{1}{2^2}-\\frac{1}{2^3} \\\\\n",
    "a_6 &=& \\frac{1}{2}+\\frac{1}{2^2}-\\frac{1}{2^3}+\\frac{1}{2^4}\n",
    "\\end{eqnarray*}\n",
    "which, for $n\\geq 2$, can be rigorously shown by induction to be such that\n",
    "\\begin{equation*}\n",
    "a_{n+2}=\\frac{1}{2}+\\sum_{k=2}^n(-1)^k\\frac{1}{2^k}=\\frac{1}{2}+\\frac{1-\\left(\\frac{-1}{2}\\right)^{n-2}}{6}=\\frac{1}{3}\\left(2-\\frac{(-1)^n}{2^{n-1}}\\right).\n",
    "\\end{equation*}\n",
    "Taking the limit via the last expression, we see that\n",
    "\\begin{equation*}\n",
    "    \\lim_{n\\to\\infty}a_n=\\lim_{n\\to\\infty}a_{n+2}=\\lim_{n\\to\\infty}\\frac{1}{3}\\left(2-\\frac{(-1)^n}{2^{n-1}}\\right)=\\frac{2}{3}.\n",
    "\\end{equation*}\n",
    "For consistency check, notice that this agrees with the limit evaluated directly from the convergent geometric series identity:\n",
    "\\begin{equation*}\n",
    "\\lim_{n\\to\\infty}a_n=\\frac{1}{2}+\\frac{1/4}{1-(-1/2)}=1/2+1/6=\\frac{2}{3}.\n",
    "\\end{equation*}\n",
    "\n",
    "The reader can easily generalize this reasoning to an arbitrary starting $a_1, a_2$ and applying proportional reasoning (or more formally, using a relevant linear function) as necessary."
   ]
  },
  {
   "cell_type": "markdown",
   "id": "b035a408",
   "metadata": {},
   "source": [
    "### Appendix C"
   ]
  },
  {
   "cell_type": "markdown",
   "id": "40f330e0",
   "metadata": {},
   "source": [
    "We apply the _Banach fixed-point theorem_. Assume that $a_1<a_2$; the other case is similar. Consider the linear function $f:[a_1, a_2]\\to[a_3, a_4]$ such that $f(a_1)=a_3$ and $f(a_2)=a_4$. The function $f$ is a contraction mapping; in fact, $|f(x)-f(y)|\\leq0.25|x-y|$. The unique fixed point for $f$ can be shown to equal $a_1+\\frac{2}{3}(a_2-a_1)$ by careful computation and using $a_3=a_1+\\frac{1}{2}(a_2-a_1)$ and $a_4=a_1+\\frac{3}{4}(a_2-a_1)$. It can also be carefully (see $\\ast$ below) shown by induction that $f(a_i)=a_{i+2}$, so that $\\lim_{i\\to\\infty}a_{i+2}=a_1+\\frac{2}{3}(a_2-a_1)$, the fixed point of $f$, by the said theorem of Banach. Since we know that the sequence $\\{a_n\\}$ converges, the subsequence $a_1, a_3, a_5, \\ldots$ has the same limit as the sequence, whence we know that\n",
    "\\begin{equation*}\n",
    "    \\lim_{n\\to\\infty}a_n=a_1+\\frac{2}{3}(a_2-a_1),\n",
    "\\end{equation*}\n",
    "as desired.\n",
    "\n",
    "($\\ast$) Compute $f(a_1), f(a_3), f(a_5), \\ldots$ by using the relations $a_i=3a_{i+2}-2a_{i+3}$ and $a_{i+1}=2a_{i+3}-a_{i+2}$."
   ]
  }
 ],
 "metadata": {
  "kernelspec": {
   "display_name": "Python 3 (ipykernel)",
   "language": "python",
   "name": "python3"
  },
  "language_info": {
   "codemirror_mode": {
    "name": "ipython",
    "version": 3
   },
   "file_extension": ".py",
   "mimetype": "text/x-python",
   "name": "python",
   "nbconvert_exporter": "python",
   "pygments_lexer": "ipython3",
   "version": "3.10.9"
  }
 },
 "nbformat": 4,
 "nbformat_minor": 5
}
